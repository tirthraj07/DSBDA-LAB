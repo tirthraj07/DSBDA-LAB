{
 "cells": [
  {
   "cell_type": "markdown",
   "metadata": {},
   "source": [
    "## Assignment 2\n",
    "\n",
    "Problem Statement\n",
    "\n",
    "```text\n",
    "Data Wrangling II\n",
    "Create an “Academic performance” dataset of students and perform the\n",
    "following operations using Python. \n",
    "\n",
    "1. Scan all variables for missing values and inconsistencies. \n",
    "If there are missing values and/or inconsistencies, use any of the suitable techniques to deal with them.\n",
    "\n",
    "2. Scan all numeric variables for outliers. \n",
    "If there are outliers, use any of the suitable techniques to deal with them.\n",
    "\n",
    "3. Apply data transformations on at least one of the variables. \n",
    "The purpose of this transformation should be one of the following reasons: \n",
    "- to change the scale for better understanding of the variable\n",
    "- to convert a non-linear relation into a linear one\n",
    "- to decrease the skewness and convert the distribution into a normal distribution.\n",
    "\n",
    "Reason and document your approach properly.\n",
    "```\n",
    "\n",
    "## Dataset Description\n",
    "\n",
    "\n",
    "### Dataset Description\n",
    "\n",
    "The dataset `AcademicPerformance.csv` has the following characteristics\n",
    "\n",
    "- `gender` : \"male\" or \"femaile\"\n",
    "- `race/ethinicity` : \"group A\" to \"group E\"\n",
    "- `parental level of education` : \"bachelor's degree\" / \"some college\" / \"master's degree\" / \"associate's degree\" / \"some college\" / \"high school\"\n",
    "- `lunch` : type of lunch - \"standard\" or \"free/reduced\" \n",
    "- `test preparation course` : If a student did the test preparation course before the exams - `completed` / `none`\n",
    "- `math score` : 0 to 100\n",
    "- `reading score` : 0 to 100\n",
    "- `writing score` : 0 to 100"
   ]
  },
  {
   "cell_type": "markdown",
   "metadata": {},
   "source": [
    "**Loading the dataset into a Pandas DataFrame**"
   ]
  },
  {
   "cell_type": "code",
   "execution_count": 2,
   "metadata": {},
   "outputs": [
    {
     "name": "stdout",
     "output_type": "stream",
     "text": [
      "     gender race/ethnicity parental level of education         lunch  \\\n",
      "0    female        group B           bachelor's degree      standard   \n",
      "1    female        group C                some college      standard   \n",
      "2    female        group B             master's degree      standard   \n",
      "3      male        group A          associate's degree  free/reduced   \n",
      "4      male        group C                some college      standard   \n",
      "..      ...            ...                         ...           ...   \n",
      "995  female        group E             master's degree      standard   \n",
      "996    male        group C                 high school  free/reduced   \n",
      "997  female        group C                 high school  free/reduced   \n",
      "998  female        group D                some college      standard   \n",
      "999  female        group D                some college  free/reduced   \n",
      "\n",
      "    test preparation course  math score  reading score  writing score  \n",
      "0                      none          72             72             74  \n",
      "1                 completed          69             90             88  \n",
      "2                      none          90             95             93  \n",
      "3                      none          47             57             44  \n",
      "4                      none          76             78             75  \n",
      "..                      ...         ...            ...            ...  \n",
      "995               completed          88             99             95  \n",
      "996                    none          62             55             55  \n",
      "997               completed          59             71             65  \n",
      "998               completed          68             78             77  \n",
      "999                    none          77             86             86  \n",
      "\n",
      "[1000 rows x 8 columns]\n"
     ]
    }
   ],
   "source": [
    "import pandas as pd\n",
    "\n",
    "df = pd.read_csv(\"StudentsPerformance.csv\")\n",
    "print(df)"
   ]
  },
  {
   "cell_type": "markdown",
   "metadata": {},
   "source": [
    "**Describing the data**"
   ]
  },
  {
   "cell_type": "code",
   "execution_count": 4,
   "metadata": {},
   "outputs": [
    {
     "name": "stdout",
     "output_type": "stream",
     "text": [
      "Shape (1000, 8)\n",
      "Size 8000\n",
      "       math score  reading score  writing score\n",
      "count  1000.00000    1000.000000    1000.000000\n",
      "mean     66.08900      69.169000      68.054000\n",
      "std      15.16308      14.600192      15.195657\n",
      "min       0.00000      17.000000      10.000000\n",
      "25%      57.00000      59.000000      57.750000\n",
      "50%      66.00000      70.000000      69.000000\n",
      "75%      77.00000      79.000000      79.000000\n",
      "max     100.00000     100.000000     100.000000\n"
     ]
    }
   ],
   "source": [
    "# Shape and Size of data\n",
    "print(f\"Shape {df.shape}\")\n",
    "print(f\"Size {df.size}\")\n",
    "\n",
    "# Describe()\n",
    "print(df.describe())"
   ]
  },
  {
   "cell_type": "markdown",
   "metadata": {},
   "source": [
    "**Check if any null values**"
   ]
  },
  {
   "cell_type": "code",
   "execution_count": 7,
   "metadata": {},
   "outputs": [
    {
     "name": "stdout",
     "output_type": "stream",
     "text": [
      "No null values exists in any rows\n"
     ]
    }
   ],
   "source": [
    "# Printing all rows if any value is null\n",
    "null_values_exists = False\n",
    "for x in df.index:\n",
    "    if df.loc[x].isnull().any():\n",
    "        print(df.loc[x])\n",
    "        null_values_exists = True\n",
    "\n",
    "if null_values_exists == False:\n",
    "    print(\"No null values exists in any rows\")"
   ]
  },
  {
   "cell_type": "markdown",
   "metadata": {},
   "source": [
    "### Datatypes of Dataset"
   ]
  },
  {
   "cell_type": "code",
   "execution_count": 8,
   "metadata": {},
   "outputs": [
    {
     "name": "stdout",
     "output_type": "stream",
     "text": [
      "gender                         object\n",
      "race/ethnicity                 object\n",
      "parental level of education    object\n",
      "lunch                          object\n",
      "test preparation course        object\n",
      "math score                      int64\n",
      "reading score                   int64\n",
      "writing score                   int64\n",
      "dtype: object\n"
     ]
    }
   ],
   "source": [
    "print(df.dtypes)"
   ]
  },
  {
   "cell_type": "markdown",
   "metadata": {},
   "source": [
    "### Number of peple less than 10% score"
   ]
  },
  {
   "cell_type": "code",
   "execution_count": 9,
   "metadata": {},
   "outputs": [],
   "source": [
    "# To Do"
   ]
  }
 ],
 "metadata": {
  "kernelspec": {
   "display_name": "Python 3",
   "language": "python",
   "name": "python3"
  },
  "language_info": {
   "codemirror_mode": {
    "name": "ipython",
    "version": 3
   },
   "file_extension": ".py",
   "mimetype": "text/x-python",
   "name": "python",
   "nbconvert_exporter": "python",
   "pygments_lexer": "ipython3",
   "version": "3.8.10"
  }
 },
 "nbformat": 4,
 "nbformat_minor": 2
}
